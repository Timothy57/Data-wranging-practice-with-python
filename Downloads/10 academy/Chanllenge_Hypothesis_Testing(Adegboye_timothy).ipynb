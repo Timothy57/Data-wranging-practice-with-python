{
 "cells": [
  {
   "cell_type": "markdown",
   "metadata": {},
   "source": [
    "## Challenge_Hypothesis Testing\n",
    "\n",
    "In this challenge, you will consider the state of North Carolina data set containing information on births recorded in this state. This data set is useful to researchers studying the relation between habits and practices of expectant mothers and the birth of their children. \n",
    "\n",
    "**The following is the variable descriptions**\n",
    "\n",
    "| variable         | description |\n",
    "| ---------------- | ------------|\n",
    "| `fage`           | father's age in years. |\n",
    "| `mage`           | mother's age in years. |\n",
    "| `mature`         | maturity status of mother. |\n",
    "| `weeks`          | length of pregnancy in weeks. |\n",
    "| `premie`         | whether the birth was classified as premature (premie) or full-term. |\n",
    "| `visits`         | number of hospital visits during pregnancy. |\n",
    "| `marital`        | whether mother is `married` or `not married` at birth. |\n",
    "| `gained`         | weight gained by mother during pregnancy in pounds. |\n",
    "| `weight`         | weight of the baby at birth in pounds. |\n",
    "| `lowbirthweight` | whether baby was classified as low birthweight (`low`) or not (`not low`). |\n",
    "| `gender`         | gender of the baby, `female` or `male`. |\n",
    "| `habit`          | status of the mother as a `nonsmoker` or a `smoker`. |\n",
    "| `whitemom`       | whether mom is `white` or `not white`. |\n",
    "\n",
    "**Based on this data, perform the following tasks**:\n",
    "\n",
    "\n",
    "- Make a side-by-side boxplot of habit and weight. What does the plot highlight about the relationship between these two variables?\n",
    "\n",
    "- Write the hypotheses for testing if the average weights of babies born to smoking and non-smoking mothers are different.\n",
    "\n",
    "- Conduct a hypothesis test evaluating whether the average weight gained by younger mothers is different than the average weight gained by mature mothers.\n",
    "\n",
    "- Construct a confidence interval for the difference between the weights of babies born to smoking and non-smoking mothers."
   ]
  },
  {
   "cell_type": "code",
   "execution_count": 6,
   "metadata": {},
   "outputs": [],
   "source": [
    "%matplotlib inline\n",
    "import statsmodels.api as sm\n",
    "import numpy as np\n",
    "import scipy.stats as stats\n",
    "import matplotlib.pyplot as plt\n",
    "import pandas as pd\n",
    "import seaborn as sns\n"
   ]
  },
  {
   "cell_type": "code",
   "execution_count": 7,
   "metadata": {},
   "outputs": [
    {
     "name": "stdout",
     "output_type": "stream",
     "text": [
      "     fage  mage       mature  weeks     premie  visits      marital  gained  \\\n",
      "0     NaN    13  younger mom   39.0  full term    10.0      married    38.0   \n",
      "1     NaN    14  younger mom   42.0  full term    15.0      married    20.0   \n",
      "2    19.0    15  younger mom   37.0  full term    11.0      married    38.0   \n",
      "3    21.0    15  younger mom   41.0  full term     6.0      married    34.0   \n",
      "4     NaN    15  younger mom   39.0  full term     9.0      married    27.0   \n",
      "..    ...   ...          ...    ...        ...     ...          ...     ...   \n",
      "995  47.0    42   mature mom   40.0  full term    10.0  not married    26.0   \n",
      "996  34.0    42   mature mom   38.0  full term    18.0  not married    20.0   \n",
      "997  39.0    45   mature mom   40.0  full term    15.0  not married    32.0   \n",
      "998  55.0    46   mature mom   31.0     premie     8.0  not married    25.0   \n",
      "999  45.0    50   mature mom   39.0  full term    14.0  not married    23.0   \n",
      "\n",
      "     weight lowbirthweight  gender      habit   whitemom  \n",
      "0      7.63        not low    male  nonsmoker  not white  \n",
      "1      7.88        not low    male  nonsmoker  not white  \n",
      "2      6.63        not low  female  nonsmoker      white  \n",
      "3      8.00        not low    male  nonsmoker      white  \n",
      "4      6.38        not low  female  nonsmoker  not white  \n",
      "..      ...            ...     ...        ...        ...  \n",
      "995    8.44        not low    male  nonsmoker  not white  \n",
      "996    6.19        not low  female  nonsmoker      white  \n",
      "997    6.94        not low  female  nonsmoker      white  \n",
      "998    4.56            low  female  nonsmoker  not white  \n",
      "999    7.13        not low  female  nonsmoker      white  \n",
      "\n",
      "[1000 rows x 13 columns]\n"
     ]
    }
   ],
   "source": [
    "df = pd.read_csv('nc (1).csv')\n",
    "print (df)\n"
   ]
  },
  {
   "cell_type": "code",
   "execution_count": 8,
   "metadata": {},
   "outputs": [
    {
     "data": {
      "text/plain": [
       "<matplotlib.axes._subplots.AxesSubplot at 0x2fe19ca8c8>"
      ]
     },
     "execution_count": 8,
     "metadata": {},
     "output_type": "execute_result"
    },
    {
     "data": {
      "image/png": "[encoded data removed]",
      "text/plain": [
       "<Figure size 432x288 with 1 Axes>"
      ]
     },
     "metadata": {
      "needs_background": "light"
     },
     "output_type": "display_data"
    }
   ],
   "source": [
    "#question1\n",
    "sns.boxplot(x='habit', y='weight', data=df)"
   ]
  },
  {
   "cell_type": "markdown",
   "metadata": {},
   "source": [
    "# question 2\n",
    "Population: weights of babies born to smoking and non-smoking\n",
    "Parameter of Interest: 𝜇\n",
    "Average weights of babies born to smoking and non-smoking mothers are different.\n",
    "Null Hypothesis: 𝜇(1) = 𝜇(2)\n",
    "Alternative Hypthosis: 𝜇()1!= 𝜇(2) \n",
    "where: 𝜇(1) = average weight of babies born to smoking mothers\n",
    "       𝜇(2) = average weight of babies born to non-smoking"
   ]
  },
  {
   "cell_type": "code",
   "execution_count": 16,
   "metadata": {},
   "outputs": [
    {
     "name": "stdout",
     "output_type": "stream",
     "text": [
      "     mage       mature\n",
      "0      13  younger mom\n",
      "1      14  younger mom\n",
      "2      15  younger mom\n",
      "3      15  younger mom\n",
      "4      15  younger mom\n",
      "..    ...          ...\n",
      "995    42   mature mom\n",
      "996    42   mature mom\n",
      "997    45   mature mom\n",
      "998    46   mature mom\n",
      "999    50   mature mom\n",
      "\n",
      "[1000 rows x 2 columns]\n"
     ]
    },
    {
     "data": {
      "text/plain": [
       "27.0"
      ]
     },
     "execution_count": 16,
     "metadata": {},
     "output_type": "execute_result"
    }
   ],
   "source": [
    "df2 = df[['mage','mature']]\n",
    "print (df2)\n",
    "df2['mage'].mean()"
   ]
  },
  {
   "cell_type": "code",
   "execution_count": 60,
   "metadata": {},
   "outputs": [],
   "source": [
    "younger_mom = df2[df2[\"mature\"] ==\"younger mom\"]\n",
    "Mature_mom= df2[df2[\"mature\"]  ==\"mature mom\"]\n"
   ]
  },
  {
   "cell_type": "code",
   "execution_count": 61,
   "metadata": {},
   "outputs": [],
   "source": [
    "Mature_mom= df2[df2[\"mature\"]  ==\"mature mom\"]"
   ]
  },
  {
   "cell_type": "code",
   "execution_count": 58,
   "metadata": {},
   "outputs": [
    {
     "name": "stdout",
     "output_type": "stream",
     "text": [
      "867 25.43829296424452 5.027803605144285\n"
     ]
    }
   ],
   "source": [
    "n1 = len(younger_mom)\n",
    "mu1 = younger_mom[\"mage\"].mean()\n",
    "sd1 = younger_mom[\"mage\"].std()\n",
    "print(n1,mu1,sd1)"
   ]
  },
  {
   "cell_type": "code",
   "execution_count": 63,
   "metadata": {},
   "outputs": [
    {
     "name": "stdout",
     "output_type": "stream",
     "text": [
      "133 37.18045112781955 2.4303466097301314\n"
     ]
    }
   ],
   "source": [
    "n2 = len(Mature_mom)\n",
    "mu2 = Mature_mom[\"mage\"].mean()\n",
    "sd2 = Mature_mom[\"mage\"].std()\n",
    "print(n2,mu2,sd2)"
   ]
  },
  {
   "cell_type": "code",
   "execution_count": 64,
   "metadata": {},
   "outputs": [
    {
     "data": {
      "text/plain": [
       "(-26.455263926063754, 3.1738309845004406e-154)"
      ]
     },
     "execution_count": 64,
     "metadata": {},
     "output_type": "execute_result"
    }
   ],
   "source": [
    "sm.stats.ztest(younger_mom[\"mage\"].dropna(), Mature_mom[\"mage\"].dropna(),alternative='two-sided')"
   ]
  },
  {
   "cell_type": "markdown",
   "metadata": {},
   "source": [
    "Conclusion of the hypothesis test\n",
    "since p-value(3.173) is extreme large, and is greater than our level of significanc, which is 0.05, we acceptthe null hypothesis and conclude that the mean or average weight gained by younger mothers is different than the average weight gained by mature mothers."
   ]
  },
  {
   "cell_type": "code",
   "execution_count": null,
   "metadata": {},
   "outputs": [],
   "source": []
  },
  {
   "cell_type": "code",
   "execution_count": null,
   "metadata": {},
   "outputs": [],
   "source": []
  },
  {
   "cell_type": "code",
   "execution_count": null,
   "metadata": {},
   "outputs": [],
   "source": []
  }
 ],
 "metadata": {
  "kernelspec": {
   "display_name": "Python 3",
   "language": "python",
   "name": "python3"
  },
  "language_info": {
   "codemirror_mode": {
    "name": "ipython",
    "version": 3
   },
   "file_extension": ".py",
   "mimetype": "text/x-python",
   "name": "python",
   "nbconvert_exporter": "python",
   "pygments_lexer": "ipython3",
   "version": "3.7.6"
  }
 },
 "nbformat": 4,
 "nbformat_minor": 4
}
